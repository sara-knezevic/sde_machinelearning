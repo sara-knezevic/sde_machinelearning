{
 "cells": [
  {
   "cell_type": "code",
   "execution_count": 66,
   "metadata": {},
   "outputs": [],
   "source": [
    "import numpy as np"
   ]
  },
  {
   "cell_type": "code",
   "execution_count": 67,
   "metadata": {},
   "outputs": [],
   "source": [
    "def matrix_multiplication(M, N):\n",
    "    W = np.zeros((len(M), len(N[0])))\n",
    "    for i in range(len(M)):\n",
    "        for j in range(len(N[0])):\n",
    "            for k in range(len(N)):\n",
    "                W[i][j] += M[i][k] * N[k][j]\n",
    "    return W"
   ]
  },
  {
   "cell_type": "code",
   "execution_count": 68,
   "metadata": {},
   "outputs": [],
   "source": [
    "def transpose(M):\n",
    "    N=[]\n",
    "    for j in range(len(M[0])):\n",
    "        U=[]\n",
    "        for i in range(len(M)):\n",
    "            U.append(M[i][j])\n",
    "        N.append(U)\n",
    "    return N"
   ]
  },
  {
   "cell_type": "code",
   "execution_count": 69,
   "metadata": {},
   "outputs": [],
   "source": [
    "def dot(M,v):\n",
    "    u=[]\n",
    "    for i in range(len(M)):\n",
    "        val=0.0\n",
    "        for j in range(len(M[0])):\n",
    "            val=val+M[i][j]*v[j]\n",
    "        u.append(val)\n",
    "    return u"
   ]
  },
  {
   "cell_type": "code",
   "execution_count": 70,
   "metadata": {},
   "outputs": [],
   "source": [
    "X = [[1, 2104, 5, 1, 45],\n",
    "     [1, 1416, 3, 2, 40],\n",
    "     [1, 1534, 3, 2, 30],\n",
    "     [1, 852, 2, 1, 36]]\n",
    "y = [460, 232, 315, 178]"
   ]
  },
  {
   "cell_type": "code",
   "execution_count": 71,
   "metadata": {},
   "outputs": [],
   "source": [
    "# theta = dot( inverse(matrix_multiply(X.transposed, X)), dot(X.transposed, y) )"
   ]
  },
  {
   "cell_type": "code",
   "execution_count": 72,
   "metadata": {},
   "outputs": [],
   "source": [
    "XT = transpose(X)\n",
    "XXT = matrix_multiplication(XT, X)\n",
    "Xi = np.linalg.inv(XXT)"
   ]
  },
  {
   "cell_type": "code",
   "execution_count": 73,
   "metadata": {},
   "outputs": [
    {
     "data": {
      "text/plain": [
       "[-416.0, 0.6875, -96.0, -88.0, -5.0]"
      ]
     },
     "execution_count": 73,
     "metadata": {},
     "output_type": "execute_result"
    }
   ],
   "source": [
    "XTy = dot(XT, y)\n",
    "theta = dot(Xi, XTy)\n",
    "theta"
   ]
  },
  {
   "cell_type": "code",
   "execution_count": null,
   "metadata": {},
   "outputs": [],
   "source": []
  },
  {
   "cell_type": "code",
   "execution_count": null,
   "metadata": {},
   "outputs": [],
   "source": []
  }
 ],
 "metadata": {
  "kernelspec": {
   "display_name": "Python 3.8.1 64-bit",
   "language": "python",
   "name": "python38164bitc7e856f8d50d467cb79555be46902b8e"
  },
  "language_info": {
   "codemirror_mode": {
    "name": "ipython",
    "version": 3
   },
   "file_extension": ".py",
   "mimetype": "text/x-python",
   "name": "python",
   "nbconvert_exporter": "python",
   "pygments_lexer": "ipython3",
   "version": "3.8.1"
  }
 },
 "nbformat": 4,
 "nbformat_minor": 2
}
