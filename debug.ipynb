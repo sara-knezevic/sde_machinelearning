{
 "cells": [
  {
   "cell_type": "code",
   "execution_count": 1,
   "metadata": {},
   "outputs": [],
   "source": [
    "import numpy as np"
   ]
  },
  {
   "cell_type": "code",
   "execution_count": 21,
   "metadata": {},
   "outputs": [
    {
     "name": "stdout",
     "output_type": "stream",
     "text": [
      "[0.8  0.12 1.   0.  ]\n",
      "[0.77546012 0.10380368 1.         0.        ]\n",
      "[1.         0.         0.59090909 0.18181818]\n"
     ]
    }
   ],
   "source": [
    "a = np.array([[89, 72, 94, 69],\n",
    "              [7921, 5184, 8836, 4761],\n",
    "              [96, 74, 87, 78]])\n",
    "\n",
    "for i in range(len(a)):\n",
    "    temp = a[i]\n",
    "    norm = (temp - temp.min()) / (temp.max() - temp.min()) # min-max normalization\n",
    "    print (norm)"
   ]
  },
  {
   "cell_type": "code",
   "execution_count": null,
   "metadata": {},
   "outputs": [],
   "source": []
  },
  {
   "cell_type": "code",
   "execution_count": null,
   "metadata": {},
   "outputs": [],
   "source": []
  },
  {
   "cell_type": "code",
   "execution_count": null,
   "metadata": {},
   "outputs": [],
   "source": []
  }
 ],
 "metadata": {
  "kernelspec": {
   "display_name": "Python 3.8.1 64-bit",
   "language": "python",
   "name": "python38164bitc7e856f8d50d467cb79555be46902b8e"
  },
  "language_info": {
   "codemirror_mode": {
    "name": "ipython",
    "version": 3
   },
   "file_extension": ".py",
   "mimetype": "text/x-python",
   "name": "python",
   "nbconvert_exporter": "python",
   "pygments_lexer": "ipython3",
   "version": "3.8.1"
  }
 },
 "nbformat": 4,
 "nbformat_minor": 2
}
