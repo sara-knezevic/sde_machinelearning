{
 "cells": [
  {
   "cell_type": "code",
   "execution_count": 1,
   "metadata": {},
   "outputs": [],
   "source": [
    "import numpy as np\n",
    "import pandas as pd\n",
    "import matplotlib.pyplot as plt"
   ]
  },
  {
   "cell_type": "code",
   "execution_count": 2,
   "metadata": {},
   "outputs": [
    {
     "data": {
      "text/html": [
       "<div>\n",
       "<style scoped>\n",
       "    .dataframe tbody tr th:only-of-type {\n",
       "        vertical-align: middle;\n",
       "    }\n",
       "\n",
       "    .dataframe tbody tr th {\n",
       "        vertical-align: top;\n",
       "    }\n",
       "\n",
       "    .dataframe thead th {\n",
       "        text-align: right;\n",
       "    }\n",
       "</style>\n",
       "<table border=\"1\" class=\"dataframe\">\n",
       "  <thead>\n",
       "    <tr style=\"text-align: right;\">\n",
       "      <th></th>\n",
       "      <th>Date</th>\n",
       "      <th>Median temperature</th>\n",
       "      <th>Minimum temperature</th>\n",
       "      <th>Maximum temperature</th>\n",
       "      <th>Precipitation</th>\n",
       "      <th>Weekend</th>\n",
       "      <th>Beer consumed (litres)</th>\n",
       "    </tr>\n",
       "  </thead>\n",
       "  <tbody>\n",
       "    <tr>\n",
       "      <td>0</td>\n",
       "      <td>2015-01-01</td>\n",
       "      <td>27,3</td>\n",
       "      <td>23,9</td>\n",
       "      <td>32,5</td>\n",
       "      <td>0</td>\n",
       "      <td>0.0</td>\n",
       "      <td>25.461</td>\n",
       "    </tr>\n",
       "    <tr>\n",
       "      <td>1</td>\n",
       "      <td>2015-01-02</td>\n",
       "      <td>27,02</td>\n",
       "      <td>24,5</td>\n",
       "      <td>33,5</td>\n",
       "      <td>0</td>\n",
       "      <td>0.0</td>\n",
       "      <td>28.972</td>\n",
       "    </tr>\n",
       "    <tr>\n",
       "      <td>2</td>\n",
       "      <td>2015-01-03</td>\n",
       "      <td>24,82</td>\n",
       "      <td>22,4</td>\n",
       "      <td>29,9</td>\n",
       "      <td>0</td>\n",
       "      <td>1.0</td>\n",
       "      <td>30.814</td>\n",
       "    </tr>\n",
       "    <tr>\n",
       "      <td>3</td>\n",
       "      <td>2015-01-04</td>\n",
       "      <td>23,98</td>\n",
       "      <td>21,5</td>\n",
       "      <td>28,6</td>\n",
       "      <td>1,2</td>\n",
       "      <td>1.0</td>\n",
       "      <td>29.799</td>\n",
       "    </tr>\n",
       "    <tr>\n",
       "      <td>4</td>\n",
       "      <td>2015-01-05</td>\n",
       "      <td>23,82</td>\n",
       "      <td>21</td>\n",
       "      <td>28,3</td>\n",
       "      <td>0</td>\n",
       "      <td>0.0</td>\n",
       "      <td>28.900</td>\n",
       "    </tr>\n",
       "    <tr>\n",
       "      <td>5</td>\n",
       "      <td>2015-01-06</td>\n",
       "      <td>23,78</td>\n",
       "      <td>20,1</td>\n",
       "      <td>30,5</td>\n",
       "      <td>12,2</td>\n",
       "      <td>0.0</td>\n",
       "      <td>28.218</td>\n",
       "    </tr>\n",
       "    <tr>\n",
       "      <td>6</td>\n",
       "      <td>2015-01-07</td>\n",
       "      <td>24</td>\n",
       "      <td>19,5</td>\n",
       "      <td>33,7</td>\n",
       "      <td>0</td>\n",
       "      <td>0.0</td>\n",
       "      <td>29.732</td>\n",
       "    </tr>\n",
       "    <tr>\n",
       "      <td>7</td>\n",
       "      <td>2015-01-08</td>\n",
       "      <td>24,9</td>\n",
       "      <td>19,5</td>\n",
       "      <td>32,8</td>\n",
       "      <td>48,6</td>\n",
       "      <td>0.0</td>\n",
       "      <td>28.397</td>\n",
       "    </tr>\n",
       "    <tr>\n",
       "      <td>8</td>\n",
       "      <td>2015-01-09</td>\n",
       "      <td>28,2</td>\n",
       "      <td>21,9</td>\n",
       "      <td>34</td>\n",
       "      <td>4,4</td>\n",
       "      <td>0.0</td>\n",
       "      <td>24.886</td>\n",
       "    </tr>\n",
       "    <tr>\n",
       "      <td>9</td>\n",
       "      <td>2015-01-10</td>\n",
       "      <td>26,76</td>\n",
       "      <td>22,1</td>\n",
       "      <td>34,2</td>\n",
       "      <td>0</td>\n",
       "      <td>1.0</td>\n",
       "      <td>37.937</td>\n",
       "    </tr>\n",
       "  </tbody>\n",
       "</table>\n",
       "</div>"
      ],
      "text/plain": [
       "         Date Median temperature Minimum temperature Maximum temperature  \\\n",
       "0  2015-01-01               27,3                23,9                32,5   \n",
       "1  2015-01-02              27,02                24,5                33,5   \n",
       "2  2015-01-03              24,82                22,4                29,9   \n",
       "3  2015-01-04              23,98                21,5                28,6   \n",
       "4  2015-01-05              23,82                  21                28,3   \n",
       "5  2015-01-06              23,78                20,1                30,5   \n",
       "6  2015-01-07                 24                19,5                33,7   \n",
       "7  2015-01-08               24,9                19,5                32,8   \n",
       "8  2015-01-09               28,2                21,9                  34   \n",
       "9  2015-01-10              26,76                22,1                34,2   \n",
       "\n",
       "  Precipitation  Weekend  Beer consumed (litres)  \n",
       "0             0      0.0                  25.461  \n",
       "1             0      0.0                  28.972  \n",
       "2             0      1.0                  30.814  \n",
       "3           1,2      1.0                  29.799  \n",
       "4             0      0.0                  28.900  \n",
       "5          12,2      0.0                  28.218  \n",
       "6             0      0.0                  29.732  \n",
       "7          48,6      0.0                  28.397  \n",
       "8           4,4      0.0                  24.886  \n",
       "9             0      1.0                  37.937  "
      ]
     },
     "execution_count": 2,
     "metadata": {},
     "output_type": "execute_result"
    }
   ],
   "source": [
    "data = pd.read_csv('beer_consumption.csv').dropna()\n",
    "data.head(10)"
   ]
  },
  {
   "cell_type": "code",
   "execution_count": 3,
   "metadata": {},
   "outputs": [],
   "source": [
    "for index, row in data.iterrows():\n",
    "    data.loc[index, 'Median temperature'] = float((row['Median temperature'].replace(',', '.')))\n",
    "    data.loc[index, 'Minimum temperature'] = float((row['Minimum temperature'].replace(',', '.')))\n",
    "    data.loc[index, 'Maximum temperature'] = float((row['Maximum temperature'].replace(',', '.')))\n",
    "    data.loc[index, 'Precipitation'] = float((row['Precipitation'].replace(',', '.')))\n",
    "#     data.loc[index, 'Weekend'] = float((row['Weekend'].replace(',', '.')))"
   ]
  },
  {
   "cell_type": "code",
   "execution_count": 4,
   "metadata": {},
   "outputs": [
    {
     "data": {
      "text/html": [
       "<div>\n",
       "<style scoped>\n",
       "    .dataframe tbody tr th:only-of-type {\n",
       "        vertical-align: middle;\n",
       "    }\n",
       "\n",
       "    .dataframe tbody tr th {\n",
       "        vertical-align: top;\n",
       "    }\n",
       "\n",
       "    .dataframe thead th {\n",
       "        text-align: right;\n",
       "    }\n",
       "</style>\n",
       "<table border=\"1\" class=\"dataframe\">\n",
       "  <thead>\n",
       "    <tr style=\"text-align: right;\">\n",
       "      <th></th>\n",
       "      <th>Date</th>\n",
       "      <th>Median temperature</th>\n",
       "      <th>Minimum temperature</th>\n",
       "      <th>Maximum temperature</th>\n",
       "      <th>Precipitation</th>\n",
       "      <th>Weekend</th>\n",
       "      <th>Beer consumed (litres)</th>\n",
       "    </tr>\n",
       "  </thead>\n",
       "  <tbody>\n",
       "    <tr>\n",
       "      <td>0</td>\n",
       "      <td>2015-01-01</td>\n",
       "      <td>27.3</td>\n",
       "      <td>23.9</td>\n",
       "      <td>32.5</td>\n",
       "      <td>0</td>\n",
       "      <td>0.0</td>\n",
       "      <td>25.461</td>\n",
       "    </tr>\n",
       "    <tr>\n",
       "      <td>1</td>\n",
       "      <td>2015-01-02</td>\n",
       "      <td>27.02</td>\n",
       "      <td>24.5</td>\n",
       "      <td>33.5</td>\n",
       "      <td>0</td>\n",
       "      <td>0.0</td>\n",
       "      <td>28.972</td>\n",
       "    </tr>\n",
       "    <tr>\n",
       "      <td>2</td>\n",
       "      <td>2015-01-03</td>\n",
       "      <td>24.82</td>\n",
       "      <td>22.4</td>\n",
       "      <td>29.9</td>\n",
       "      <td>0</td>\n",
       "      <td>1.0</td>\n",
       "      <td>30.814</td>\n",
       "    </tr>\n",
       "    <tr>\n",
       "      <td>3</td>\n",
       "      <td>2015-01-04</td>\n",
       "      <td>23.98</td>\n",
       "      <td>21.5</td>\n",
       "      <td>28.6</td>\n",
       "      <td>1.2</td>\n",
       "      <td>1.0</td>\n",
       "      <td>29.799</td>\n",
       "    </tr>\n",
       "    <tr>\n",
       "      <td>4</td>\n",
       "      <td>2015-01-05</td>\n",
       "      <td>23.82</td>\n",
       "      <td>21</td>\n",
       "      <td>28.3</td>\n",
       "      <td>0</td>\n",
       "      <td>0.0</td>\n",
       "      <td>28.900</td>\n",
       "    </tr>\n",
       "    <tr>\n",
       "      <td>5</td>\n",
       "      <td>2015-01-06</td>\n",
       "      <td>23.78</td>\n",
       "      <td>20.1</td>\n",
       "      <td>30.5</td>\n",
       "      <td>12.2</td>\n",
       "      <td>0.0</td>\n",
       "      <td>28.218</td>\n",
       "    </tr>\n",
       "    <tr>\n",
       "      <td>6</td>\n",
       "      <td>2015-01-07</td>\n",
       "      <td>24</td>\n",
       "      <td>19.5</td>\n",
       "      <td>33.7</td>\n",
       "      <td>0</td>\n",
       "      <td>0.0</td>\n",
       "      <td>29.732</td>\n",
       "    </tr>\n",
       "    <tr>\n",
       "      <td>7</td>\n",
       "      <td>2015-01-08</td>\n",
       "      <td>24.9</td>\n",
       "      <td>19.5</td>\n",
       "      <td>32.8</td>\n",
       "      <td>48.6</td>\n",
       "      <td>0.0</td>\n",
       "      <td>28.397</td>\n",
       "    </tr>\n",
       "    <tr>\n",
       "      <td>8</td>\n",
       "      <td>2015-01-09</td>\n",
       "      <td>28.2</td>\n",
       "      <td>21.9</td>\n",
       "      <td>34</td>\n",
       "      <td>4.4</td>\n",
       "      <td>0.0</td>\n",
       "      <td>24.886</td>\n",
       "    </tr>\n",
       "    <tr>\n",
       "      <td>9</td>\n",
       "      <td>2015-01-10</td>\n",
       "      <td>26.76</td>\n",
       "      <td>22.1</td>\n",
       "      <td>34.2</td>\n",
       "      <td>0</td>\n",
       "      <td>1.0</td>\n",
       "      <td>37.937</td>\n",
       "    </tr>\n",
       "  </tbody>\n",
       "</table>\n",
       "</div>"
      ],
      "text/plain": [
       "         Date Median temperature Minimum temperature Maximum temperature  \\\n",
       "0  2015-01-01               27.3                23.9                32.5   \n",
       "1  2015-01-02              27.02                24.5                33.5   \n",
       "2  2015-01-03              24.82                22.4                29.9   \n",
       "3  2015-01-04              23.98                21.5                28.6   \n",
       "4  2015-01-05              23.82                  21                28.3   \n",
       "5  2015-01-06              23.78                20.1                30.5   \n",
       "6  2015-01-07                 24                19.5                33.7   \n",
       "7  2015-01-08               24.9                19.5                32.8   \n",
       "8  2015-01-09               28.2                21.9                  34   \n",
       "9  2015-01-10              26.76                22.1                34.2   \n",
       "\n",
       "  Precipitation  Weekend  Beer consumed (litres)  \n",
       "0             0      0.0                  25.461  \n",
       "1             0      0.0                  28.972  \n",
       "2             0      1.0                  30.814  \n",
       "3           1.2      1.0                  29.799  \n",
       "4             0      0.0                  28.900  \n",
       "5          12.2      0.0                  28.218  \n",
       "6             0      0.0                  29.732  \n",
       "7          48.6      0.0                  28.397  \n",
       "8           4.4      0.0                  24.886  \n",
       "9             0      1.0                  37.937  "
      ]
     },
     "execution_count": 4,
     "metadata": {},
     "output_type": "execute_result"
    }
   ],
   "source": [
    "data.head(10)"
   ]
  },
  {
   "cell_type": "code",
   "execution_count": 5,
   "metadata": {},
   "outputs": [],
   "source": [
    "median_temp = data['Median temperature'].values\n",
    "beers = data['Beer consumed (litres)'].values"
   ]
  },
  {
   "cell_type": "markdown",
   "metadata": {},
   "source": [
    "##### Data plotting."
   ]
  },
  {
   "cell_type": "code",
   "execution_count": 6,
   "metadata": {},
   "outputs": [
    {
     "data": {
      "text/plain": [
       "<matplotlib.collections.PathCollection at 0x7f80cbda0610>"
      ]
     },
     "execution_count": 6,
     "metadata": {},
     "output_type": "execute_result"
    },
    {
     "data": {
      "image/png": "[encoded data removed]",
      "text/plain": [
       "<Figure size 432x288 with 1 Axes>"
      ]
     },
     "metadata": {
      "needs_background": "light"
     },
     "output_type": "display_data"
    }
   ],
   "source": [
    "plt.scatter(median_temp, beers)"
   ]
  },
  {
   "cell_type": "markdown",
   "metadata": {},
   "source": [
    "##### Gradient descent single variable calculation."
   ]
  },
  {
   "cell_type": "code",
   "execution_count": 7,
   "metadata": {},
   "outputs": [],
   "source": [
    "def gradient_descent_single(X, y, alpha, epochs, reg_lambda):\n",
    "    theta0 = 0\n",
    "    theta1 = 0\n",
    "    m = len(y)\n",
    "    losses = []\n",
    "    \n",
    "    for i in range(epochs):\n",
    "        h = theta1 * X + theta0\n",
    "        d_theta1 = (-2 / m) * sum(X * (y -  h))\n",
    "        d_theta0 = (-2 / m) * sum(y - h)\n",
    "        theta1 = theta1 - alpha * d_theta1\n",
    "        theta0 = theta0 - alpha * d_theta0\n",
    "        \n",
    "        loss = loss_function_single(theta0, theta1, X, y, reg_lambda)\n",
    "        losses.append(loss)\n",
    "    \n",
    "    return losses, theta0, theta1"
   ]
  },
  {
   "cell_type": "markdown",
   "metadata": {},
   "source": [
    "##### Loss function calculation."
   ]
  },
  {
   "cell_type": "code",
   "execution_count": 8,
   "metadata": {},
   "outputs": [],
   "source": [
    "def loss_function_single(theta0, theta1, X, y, reg_lambda):\n",
    "    m = len(y)\n",
    "    h = theta0 + X.dot(theta1)\n",
    "    J = (1/2 * m) * (sum(np.square(h - y))) #+ reg_lambda * (theta1 ** 2))\n",
    "    \n",
    "    return J"
   ]
  },
  {
   "cell_type": "markdown",
   "metadata": {},
   "source": [
    "##### Feature normalization."
   ]
  },
  {
   "cell_type": "code",
   "execution_count": 9,
   "metadata": {},
   "outputs": [],
   "source": [
    "X = median_temp\n",
    "X = (X - X.min()) / (X.max() - X.min())\n",
    "y = beers\n",
    "y = (y - y.min()) / (y.max() - y.min())"
   ]
  },
  {
   "cell_type": "code",
   "execution_count": 10,
   "metadata": {},
   "outputs": [],
   "source": [
    "losses, theta0, theta1 = gradient_descent_single(X, y, 0.001, 10000, 10)"
   ]
  },
  {
   "cell_type": "code",
   "execution_count": 11,
   "metadata": {},
   "outputs": [
    {
     "data": {
      "text/plain": [
       "(0.28633078343900276, 0.3553704915906842)"
      ]
     },
     "execution_count": 11,
     "metadata": {},
     "output_type": "execute_result"
    }
   ],
   "source": [
    "theta0, theta1"
   ]
  },
  {
   "cell_type": "code",
   "execution_count": 12,
   "metadata": {},
   "outputs": [
    {
     "data": {
      "text/plain": [
       "[<matplotlib.lines.Line2D at 0x7f80cb53bd10>]"
      ]
     },
     "execution_count": 12,
     "metadata": {},
     "output_type": "execute_result"
    },
    {
     "data": {
      "image/png": "[encoded data removed]",
      "text/plain": [
       "<Figure size 432x288 with 1 Axes>"
      ]
     },
     "metadata": {
      "needs_background": "light"
     },
     "output_type": "display_data"
    }
   ],
   "source": [
    "h = theta1 * X + theta0\n",
    "plt.scatter(X, y, c='orange')\n",
    "plt.plot([min(X), max(X)], [min(h), max(h)], c='purple')"
   ]
  },
  {
   "cell_type": "markdown",
   "metadata": {},
   "source": [
    "##### Loss function plotting for single variable gradient descent."
   ]
  },
  {
   "cell_type": "code",
   "execution_count": 13,
   "metadata": {},
   "outputs": [
    {
     "data": {
      "text/plain": [
       "[<matplotlib.lines.Line2D at 0x7f80cb3552d0>]"
      ]
     },
     "execution_count": 13,
     "metadata": {},
     "output_type": "execute_result"
    },
    {
     "data": {
      "image/png": "[encoded data removed]",
      "text/plain": [
       "<Figure size 432x288 with 1 Axes>"
      ]
     },
     "metadata": {
      "needs_background": "light"
     },
     "output_type": "display_data"
    }
   ],
   "source": [
    "n_iterations = [x for x in range(10000)]\n",
    "plt.plot(n_iterations, losses)"
   ]
  },
  {
   "cell_type": "code",
   "execution_count": 14,
   "metadata": {},
   "outputs": [],
   "source": [
    "def hypothesis(theta, X, features):\n",
    "    h = np.ones((X.shape[0], 1))\n",
    "    theta = theta.reshape(1, features + 1)\n",
    "    for i in range(X.shape[0]):\n",
    "        h[i] = float(np.matmul(theta, X[i]))\n",
    "    h = h.reshape(X.shape[0])\n",
    "    return h"
   ]
  },
  {
   "cell_type": "code",
   "execution_count": 15,
   "metadata": {},
   "outputs": [],
   "source": [
    "def gradient_descent(theta, alpha, epochs, h, X, y, features):\n",
    "    loss = np.ones(epochs)\n",
    "    for i in range(epochs):\n",
    "        theta[0] = theta[0] - (alpha / X.shape[0]) * sum(h - y)\n",
    "        for j in range(1, features + 1):\n",
    "            theta[j] = theta[j] - (alpha / X.shape[0]) * sum((h - y) * X.transpose()[j])\n",
    "        h = hypothesis(theta, X, features)\n",
    "        loss[i] = (1 / (2 * X.shape[0])) * sum(np.square(h - y))\n",
    "    theta = theta.reshape(1, features + 1)\n",
    "    return theta, loss"
   ]
  },
  {
   "cell_type": "code",
   "execution_count": 16,
   "metadata": {},
   "outputs": [],
   "source": [
    "def linear_regression(X, y, alpha, epochs):\n",
    "    features = X.shape[1]\n",
    "    X = np.concatenate((np.ones((X.shape[0], 1)), X), axis = 1)\n",
    "    theta = np.zeros(features + 1)\n",
    "    h = hypothesis(theta, X, features)\n",
    "    theta, loss = gradient_descent(theta, alpha, epochs, h, X, y, features)\n",
    "    return theta, loss"
   ]
  },
  {
   "cell_type": "code",
   "execution_count": 17,
   "metadata": {},
   "outputs": [],
   "source": [
    "X = data.drop(['Beer consumed (litres)', 'Date'], axis=1).values\n",
    "X = (X - X.min()) / (X.max() - X.min())\n",
    "y = data['Beer consumed (litres)'].values"
   ]
  },
  {
   "cell_type": "code",
   "execution_count": 18,
   "metadata": {},
   "outputs": [
    {
     "data": {
      "text/plain": [
       "(365, 5)"
      ]
     },
     "execution_count": 18,
     "metadata": {},
     "output_type": "execute_result"
    }
   ],
   "source": [
    "X.shape"
   ]
  },
  {
   "cell_type": "code",
   "execution_count": 19,
   "metadata": {},
   "outputs": [
    {
     "data": {
      "text/plain": [
       "(365,)"
      ]
     },
     "execution_count": 19,
     "metadata": {},
     "output_type": "execute_result"
    }
   ],
   "source": [
    "y.shape"
   ]
  },
  {
   "cell_type": "markdown",
   "metadata": {},
   "source": [
    "##### Multivariate gradient descent and weights + loss printing."
   ]
  },
  {
   "cell_type": "code",
   "execution_count": 20,
   "metadata": {},
   "outputs": [
    {
     "name": "stdout",
     "output_type": "stream",
     "text": [
      "Theta : [[21.55636351  5.17334068  4.16837529  6.59393378  0.5657393   0.11824323]]\n",
      "Loss : 8.376058905291083\n"
     ]
    }
   ],
   "source": [
    "theta, loss = linear_regression(X, y, 0.001, 5000)\n",
    "print ('Theta : {}\\nLoss : {}'.format(theta, loss[-1]))"
   ]
  },
  {
   "cell_type": "code",
   "execution_count": 21,
   "metadata": {},
   "outputs": [],
   "source": [
    "n_iterations = [x for x in range(5000)]"
   ]
  },
  {
   "cell_type": "markdown",
   "metadata": {},
   "source": [
    "##### Multivariate linear regression loss function plotting."
   ]
  },
  {
   "cell_type": "code",
   "execution_count": 22,
   "metadata": {},
   "outputs": [
    {
     "data": {
      "text/plain": [
       "[<matplotlib.lines.Line2D at 0x7f80cb3e8c10>]"
      ]
     },
     "execution_count": 22,
     "metadata": {},
     "output_type": "execute_result"
    },
    {
     "data": {
      "image/png": "[encoded data removed]",
      "text/plain": [
       "<Figure size 432x288 with 1 Axes>"
      ]
     },
     "metadata": {
      "needs_background": "light"
     },
     "output_type": "display_data"
    }
   ],
   "source": [
    "plt.plot(n_iterations, loss)"
   ]
  },
  {
   "cell_type": "code",
   "execution_count": 23,
   "metadata": {},
   "outputs": [],
   "source": [
    "def matrix_multiplication(M, N):\n",
    "    W = np.zeros((len(M), len(N[0])))\n",
    "    for i in range(len(M)):\n",
    "        for j in range(len(N[0])):\n",
    "            for k in range(len(N)):\n",
    "                W[i][j] += M[i][k] * N[k][j]\n",
    "    return W"
   ]
  },
  {
   "cell_type": "code",
   "execution_count": 24,
   "metadata": {},
   "outputs": [],
   "source": [
    "def transpose(M):\n",
    "    N=[]\n",
    "    for j in range(len(M[0])):\n",
    "        U=[]\n",
    "        for i in range(len(M)):\n",
    "            U.append(M[i][j])\n",
    "        N.append(U)\n",
    "    return N"
   ]
  },
  {
   "cell_type": "code",
   "execution_count": 25,
   "metadata": {},
   "outputs": [],
   "source": [
    "def dot(M,v):\n",
    "    u=[]\n",
    "    for i in range(len(M)):\n",
    "        val=0.0\n",
    "        for j in range(len(M[0])):\n",
    "            val=val+M[i][j]*v[j]\n",
    "        u.append(val)\n",
    "    return u"
   ]
  },
  {
   "cell_type": "markdown",
   "metadata": {},
   "source": [
    "##### Normal equation function."
   ]
  },
  {
   "cell_type": "code",
   "execution_count": 26,
   "metadata": {},
   "outputs": [],
   "source": [
    "def normal_equation(X, y):\n",
    "    XT = transpose(X)\n",
    "    XXT = matrix_multiplication(XT, X)\n",
    "    Xi = np.linalg.inv(XXT)\n",
    "    XTy = dot(XT, y)\n",
    "    theta = dot(Xi, XTy)\n",
    "    return theta"
   ]
  },
  {
   "cell_type": "code",
   "execution_count": 27,
   "metadata": {},
   "outputs": [
    {
     "data": {
      "text/plain": [
       "(365, 6)"
      ]
     },
     "execution_count": 27,
     "metadata": {},
     "output_type": "execute_result"
    }
   ],
   "source": [
    "m = len(X)\n",
    "bias = (np.ones(m))[:, np.newaxis]\n",
    "X = np.concatenate((bias, X), axis=1)\n",
    "X.shape"
   ]
  },
  {
   "cell_type": "code",
   "execution_count": 28,
   "metadata": {},
   "outputs": [
    {
     "data": {
      "text/plain": [
       "[6.444696360571417,\n",
       " 2.9194217538442766,\n",
       " -1.8045098924260188,\n",
       " 62.18887187154707,\n",
       " -5.4480973390801,\n",
       " 491.36553347362224]"
      ]
     },
     "execution_count": 28,
     "metadata": {},
     "output_type": "execute_result"
    }
   ],
   "source": [
    "normal_equation(X, y)"
   ]
  },
  {
   "cell_type": "code",
   "execution_count": null,
   "metadata": {},
   "outputs": [],
   "source": []
  },
  {
   "cell_type": "code",
   "execution_count": null,
   "metadata": {},
   "outputs": [],
   "source": []
  }
 ],
 "metadata": {
  "kernelspec": {
   "display_name": "Python [conda env:root] *",
   "language": "python",
   "name": "conda-root-py"
  },
  "language_info": {
   "codemirror_mode": {
    "name": "ipython",
    "version": 3
   },
   "file_extension": ".py",
   "mimetype": "text/x-python",
   "name": "python",
   "nbconvert_exporter": "python",
   "pygments_lexer": "ipython3",
   "version": "3.7.4"
  }
 },
 "nbformat": 4,
 "nbformat_minor": 2
}
