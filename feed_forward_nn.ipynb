{
 "cells": [
  {
   "cell_type": "code",
   "execution_count": 4,
   "metadata": {},
   "outputs": [],
   "source": [
    "import numpy as np\n",
    "import pandas as pd"
   ]
  },
  {
   "cell_type": "code",
   "execution_count": 5,
   "metadata": {},
   "outputs": [
    {
     "data": {
      "text/plain": [
       "array([[4.22896098e-03, 2.44005642e-03, 2.88669488e-02, ...,\n",
       "        6.23883404e-05, 1.08157029e-04, 2.79501646e-05],\n",
       "       [4.83544899e-03, 4.17724495e-03, 3.12411848e-02, ...,\n",
       "        4.37235543e-05, 6.46450400e-05, 2.09261871e-05],\n",
       "       [4.62858486e-03, 4.99529854e-03, 3.05594734e-02, ...,\n",
       "        5.71227080e-05, 8.49318289e-05, 2.05876822e-05],\n",
       "       ...,\n",
       "       [3.90220969e-03, 6.60084626e-03, 2.54583921e-02, ...,\n",
       "        3.33333333e-05, 5.21391631e-05, 1.83826986e-05],\n",
       "       [4.84250118e-03, 6.89468735e-03, 3.29337094e-02, ...,\n",
       "        6.22943112e-05, 9.60742830e-05, 2.91490362e-05],\n",
       "       [1.82416549e-03, 5.76868829e-03, 1.12646921e-02, ...,\n",
       "        0.00000000e+00, 6.74894217e-05, 1.65467795e-05]])"
      ]
     },
     "execution_count": 5,
     "metadata": {},
     "output_type": "execute_result"
    }
   ],
   "source": [
    "from sklearn.datasets import load_breast_cancer\n",
    "cancer = load_breast_cancer()\n",
    "X = cancer.data\n",
    "X = (X - X.min()) / (X.max() - X.min())\n",
    "y = cancer.target\n",
    "X"
   ]
  },
  {
   "cell_type": "code",
   "execution_count": 6,
   "metadata": {},
   "outputs": [],
   "source": [
    "def add_matrix(U, V):\n",
    "    W = []\n",
    "    for i in range(len(U)):\n",
    "        temp = []\n",
    "        for j in range(len(U[0])):\n",
    "              temp.append(U[i][j] + V[i][j])\n",
    "        W.append(temp)\n",
    "    return W"
   ]
  },
  {
   "cell_type": "code",
   "execution_count": 7,
   "metadata": {},
   "outputs": [],
   "source": [
    "# matrix * vector\n",
    "def dot(M,v):\n",
    "    u = []\n",
    "    for i in range(len(M)):\n",
    "        val = 0.0\n",
    "        for j in range(len(M[0])):\n",
    "            val = val + M[i][j] * v[j]\n",
    "        u.append(val)\n",
    "    return u"
   ]
  },
  {
   "cell_type": "code",
   "execution_count": 8,
   "metadata": {},
   "outputs": [],
   "source": [
    "def add_vectors(u, v):\n",
    "    w = []\n",
    "    for i in range(len(u)):\n",
    "        w.append(u[i] + v[i])\n",
    "    return w"
   ]
  },
  {
   "cell_type": "code",
   "execution_count": 9,
   "metadata": {},
   "outputs": [],
   "source": [
    "def sigmoid(v):\n",
    "    u = []\n",
    "    for i in range(len(v)):\n",
    "        a = 1. / (1 + np.exp(-v[i]))\n",
    "        u.append(a)\n",
    "    return u"
   ]
  },
  {
   "cell_type": "code",
   "execution_count": 10,
   "metadata": {},
   "outputs": [],
   "source": [
    "def forward_propagation(Xi, yi, theta1, theta2, b1, b2):\n",
    "    layer_one = dot(theta1, Xi)\n",
    "    layer_one = add_vectors(layer_one, b1)\n",
    "    activate_one = sigmoid(layer_one)\n",
    "    \n",
    "    layer_two = dot(theta2, activate_one)\n",
    "    layer_two = add_vectors(layer_two, b2)\n",
    "    activate_two = sigmoid(layer_two)\n",
    "    \n",
    "    objective_func = (activate_two[0] - yi)\n",
    "    loss = objective_func ** 2\n",
    "    \n",
    "    return [loss, objective_func, Xi, activate_one, activate_two]"
   ]
  },
  {
   "cell_type": "code",
   "execution_count": 11,
   "metadata": {},
   "outputs": [],
   "source": [
    "from random import seed\n",
    "from random import random"
   ]
  },
  {
   "cell_type": "code",
   "execution_count": 12,
   "metadata": {},
   "outputs": [],
   "source": [
    "theta1 = [[random(), random()],\n",
    "          [random(), random()],\n",
    "          [random(), random()]]\n",
    "b1 = [0, 0, 0]\n",
    "theta2 = [[random(), random(), random()]]\n",
    "b2 = [0]"
   ]
  },
  {
   "cell_type": "code",
   "execution_count": 13,
   "metadata": {},
   "outputs": [],
   "source": [
    "for i in range(len(X)):\n",
    "    [J, err, Xi, a2, a3] = forward_propagation( X[i], y[i], theta1, theta2, b1, b2)"
   ]
  },
  {
   "cell_type": "code",
   "execution_count": 14,
   "metadata": {},
   "outputs": [
    {
     "name": "stdout",
     "output_type": "stream",
     "text": [
      "0.1630176057072618\n"
     ]
    }
   ],
   "source": [
    "print (J)"
   ]
  },
  {
   "cell_type": "code",
   "execution_count": null,
   "metadata": {},
   "outputs": [],
   "source": []
  },
  {
   "cell_type": "code",
   "execution_count": null,
   "metadata": {},
   "outputs": [],
   "source": []
  },
  {
   "cell_type": "code",
   "execution_count": null,
   "metadata": {},
   "outputs": [],
   "source": []
  }
 ],
 "metadata": {
  "kernelspec": {
   "display_name": "Python 3.8.1 64-bit",
   "language": "python",
   "name": "python38164bitc7e856f8d50d467cb79555be46902b8e"
  },
  "language_info": {
   "codemirror_mode": {
    "name": "ipython",
    "version": 3
   },
   "file_extension": ".py",
   "mimetype": "text/x-python",
   "name": "python",
   "nbconvert_exporter": "python",
   "pygments_lexer": "ipython3",
   "version": "3.8.1"
  }
 },
 "nbformat": 4,
 "nbformat_minor": 2
}
