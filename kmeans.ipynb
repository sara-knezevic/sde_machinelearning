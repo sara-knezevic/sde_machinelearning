{
 "cells": [
  {
   "cell_type": "code",
   "execution_count": 97,
   "metadata": {},
   "outputs": [],
   "source": [
    "import numpy as np\n",
    "import pandas as pd\n",
    "import random\n",
    "import matplotlib.pyplot as plt"
   ]
  },
  {
   "cell_type": "code",
   "execution_count": 98,
   "metadata": {},
   "outputs": [
    {
     "data": {
      "text/html": [
       "<div>\n",
       "<style scoped>\n",
       "    .dataframe tbody tr th:only-of-type {\n",
       "        vertical-align: middle;\n",
       "    }\n",
       "\n",
       "    .dataframe tbody tr th {\n",
       "        vertical-align: top;\n",
       "    }\n",
       "\n",
       "    .dataframe thead th {\n",
       "        text-align: right;\n",
       "    }\n",
       "</style>\n",
       "<table border=\"1\" class=\"dataframe\">\n",
       "  <thead>\n",
       "    <tr style=\"text-align: right;\">\n",
       "      <th></th>\n",
       "      <th>CustomerID</th>\n",
       "      <th>Genre</th>\n",
       "      <th>Age</th>\n",
       "      <th>Annual Income (k$)</th>\n",
       "      <th>Spending Score (1-100)</th>\n",
       "    </tr>\n",
       "  </thead>\n",
       "  <tbody>\n",
       "    <tr>\n",
       "      <td>0</td>\n",
       "      <td>1</td>\n",
       "      <td>Male</td>\n",
       "      <td>19</td>\n",
       "      <td>15</td>\n",
       "      <td>39</td>\n",
       "    </tr>\n",
       "    <tr>\n",
       "      <td>1</td>\n",
       "      <td>2</td>\n",
       "      <td>Male</td>\n",
       "      <td>21</td>\n",
       "      <td>15</td>\n",
       "      <td>81</td>\n",
       "    </tr>\n",
       "    <tr>\n",
       "      <td>2</td>\n",
       "      <td>3</td>\n",
       "      <td>Female</td>\n",
       "      <td>20</td>\n",
       "      <td>16</td>\n",
       "      <td>6</td>\n",
       "    </tr>\n",
       "    <tr>\n",
       "      <td>3</td>\n",
       "      <td>4</td>\n",
       "      <td>Female</td>\n",
       "      <td>23</td>\n",
       "      <td>16</td>\n",
       "      <td>77</td>\n",
       "    </tr>\n",
       "    <tr>\n",
       "      <td>4</td>\n",
       "      <td>5</td>\n",
       "      <td>Female</td>\n",
       "      <td>31</td>\n",
       "      <td>17</td>\n",
       "      <td>40</td>\n",
       "    </tr>\n",
       "  </tbody>\n",
       "</table>\n",
       "</div>"
      ],
      "text/plain": [
       "   CustomerID   Genre  Age  Annual Income (k$)  Spending Score (1-100)\n",
       "0           1    Male   19                  15                      39\n",
       "1           2    Male   21                  15                      81\n",
       "2           3  Female   20                  16                       6\n",
       "3           4  Female   23                  16                      77\n",
       "4           5  Female   31                  17                      40"
      ]
     },
     "execution_count": 98,
     "metadata": {},
     "output_type": "execute_result"
    }
   ],
   "source": [
    "dataset = pd.read_csv('Mall_Customers.csv')\n",
    "dataset.head()"
   ]
  },
  {
   "cell_type": "markdown",
   "metadata": {},
   "source": [
    "### K Means"
   ]
  },
  {
   "cell_type": "code",
   "execution_count": 99,
   "metadata": {},
   "outputs": [],
   "source": [
    "X = dataset.iloc[:, -2:].values # take last two columns"
   ]
  },
  {
   "cell_type": "code",
   "execution_count": 100,
   "metadata": {},
   "outputs": [
    {
     "data": {
      "text/plain": [
       "array([[15, 39],\n",
       "       [15, 81],\n",
       "       [16,  6],\n",
       "       [16, 77],\n",
       "       [17, 40]])"
      ]
     },
     "execution_count": 100,
     "metadata": {},
     "output_type": "execute_result"
    }
   ],
   "source": [
    "X[:5, :]"
   ]
  },
  {
   "cell_type": "code",
   "execution_count": 101,
   "metadata": {},
   "outputs": [],
   "source": [
    "m = X.shape[0]\n",
    "n = X.shape[1]\n",
    "n_iter = 1000\n",
    "K = 5"
   ]
  },
  {
   "cell_type": "code",
   "execution_count": 102,
   "metadata": {},
   "outputs": [],
   "source": [
    "centroids = np.zeros([n * K])\n",
    "centroids = centroids.reshape(n, K)\n",
    "# each column of this n x K matrix \n",
    "# is a centroid of one cluster"
   ]
  },
  {
   "cell_type": "code",
   "execution_count": 103,
   "metadata": {},
   "outputs": [
    {
     "data": {
      "text/plain": [
       "array([[0., 0., 0., 0., 0.],\n",
       "       [0., 0., 0., 0., 0.]])"
      ]
     },
     "execution_count": 103,
     "metadata": {},
     "output_type": "execute_result"
    }
   ],
   "source": [
    "centroids"
   ]
  },
  {
   "cell_type": "code",
   "execution_count": 104,
   "metadata": {},
   "outputs": [],
   "source": [
    "# pick random centroids\n",
    "for k in range(K):\n",
    "    rand = random.randint(0, m-1)\n",
    "    centroids[:, k] = X[rand]"
   ]
  },
  {
   "cell_type": "code",
   "execution_count": 105,
   "metadata": {},
   "outputs": [
    {
     "data": {
      "text/plain": [
       "array([[60., 18., 48., 57., 65.],\n",
       "       [42.,  6., 50., 55., 43.]])"
      ]
     },
     "execution_count": 105,
     "metadata": {},
     "output_type": "execute_result"
    }
   ],
   "source": [
    "centroids"
   ]
  },
  {
   "cell_type": "code",
   "execution_count": 106,
   "metadata": {},
   "outputs": [],
   "source": [
    "output = {}"
   ]
  },
  {
   "cell_type": "code",
   "execution_count": 107,
   "metadata": {},
   "outputs": [],
   "source": [
    "distance = np.zeros([m * K])\n",
    "distance = distance.reshape(m, K)"
   ]
  },
  {
   "cell_type": "code",
   "execution_count": 108,
   "metadata": {},
   "outputs": [],
   "source": [
    "for k in range(K):\n",
    "    temp_distance = np.sum((X - centroids[:, k]) ** 2, axis = 1)\n",
    "    distance[:, k] = temp_distance\n",
    "    \n",
    "# assign each sample to closest centroid\n",
    "clusters = np.argmin(distance, axis = 1) + 1"
   ]
  },
  {
   "cell_type": "code",
   "execution_count": 109,
   "metadata": {},
   "outputs": [
    {
     "data": {
      "text/plain": [
       "array([2, 3, 2, 3, 3, 3, 2, 3, 2, 3, 2, 3, 2, 3, 2, 3, 2, 3, 2, 3, 3, 3,\n",
       "       2, 3, 2, 3, 3, 3, 3, 3, 2, 3, 2, 4, 2, 3, 2, 3, 3, 3, 3, 4, 3, 3,\n",
       "       3, 3, 3, 3, 3, 3, 3, 3, 3, 3, 3, 3, 3, 3, 3, 3, 3, 3, 3, 3, 3, 3,\n",
       "       3, 3, 3, 3, 3, 3, 3, 3, 3, 4, 4, 3, 4, 1, 4, 4, 1, 1, 4, 1, 4, 4,\n",
       "       4, 1, 4, 1, 4, 1, 1, 4, 1, 4, 1, 1, 1, 5, 4, 4, 4, 1, 5, 5, 5, 5,\n",
       "       4, 4, 5, 5, 5, 5, 5, 4, 5, 4, 4, 5, 4, 4, 5, 4, 5, 4, 5, 4, 5, 4,\n",
       "       5, 4, 5, 4, 5, 4, 5, 4, 5, 4, 5, 4, 5, 4, 5, 4, 5, 4, 5, 4, 5, 4,\n",
       "       5, 4, 5, 4, 5, 4, 5, 4, 5, 4, 5, 4, 5, 4, 5, 5, 5, 4, 5, 4, 5, 4,\n",
       "       5, 4, 5, 4, 5, 4, 5, 4, 5, 4, 5, 5, 5, 4, 5, 5, 5, 4, 5, 5, 5, 5,\n",
       "       5, 5])"
      ]
     },
     "execution_count": 109,
     "metadata": {},
     "output_type": "execute_result"
    }
   ],
   "source": [
    "clusters"
   ]
  },
  {
   "cell_type": "code",
   "execution_count": 110,
   "metadata": {},
   "outputs": [],
   "source": [
    "C1 = np.where(clusters == 1) # indexes of the samples in cluster 1\n",
    "C2 = np.where(clusters == 2) # indexes of the samples in cluster 2\n",
    "C3 = np.where(clusters == 3) # indexes of the samples in cluster 3\n",
    "C4 = np.where(clusters == 4) # indexes of the samples in cluster 4\n",
    "C5 = np.where(clusters == 5) # indexes of the samples in cluster 5"
   ]
  },
  {
   "cell_type": "code",
   "execution_count": 111,
   "metadata": {},
   "outputs": [],
   "source": [
    "Y1 = X[C1] # Group of samples in cluster1\n",
    "Y2 = X[C2] # Group of samples in cluster2\n",
    "Y3 = X[C3] # Group of samples in cluster3\n",
    "Y4 = X[C4] # Group of samples in cluster4\n",
    "Y5 = X[C5] # Group of samples in cluster5\n",
    "C1 = Y1.mean(axis = 0) #mean value of cluster1\n",
    "C2 = Y2.mean(axis = 0) #mean value of cluster2\n",
    "C3 = Y3.mean(axis = 0) #mean value of cluster3\n",
    "C4 = Y4.mean(axis = 0) #mean value of cluster4\n",
    "C5 = Y5.mean(axis = 0) #mean value of cluster5"
   ]
  },
  {
   "cell_type": "code",
   "execution_count": 146,
   "metadata": {},
   "outputs": [],
   "source": [
    "for i in range(n_iter):\n",
    "    for k in range(K):\n",
    "        temp_distance = np.sum((X - centroids[:, k]) ** 2, axis = 1)\n",
    "        distance[:, k] = temp_distance\n",
    "\n",
    "    clusters = np.argmin(distance, axis = 1) + 1\n",
    "    C1 = np.where(clusters == 1)\n",
    "    C2 = np.where(clusters == 2)\n",
    "    C3 = np.where(clusters == 3)\n",
    "    C4 = np.where(clusters == 4)\n",
    "    C5 = np.where(clusters == 5)\n",
    "    Y1 = X[C1]\n",
    "    Y2 = X[C2]\n",
    "    Y3 = X[C3]\n",
    "    Y4 = X[C4]\n",
    "    Y5 = X[C5]\n",
    "    C1 = Y1.mean(axis = 0)\n",
    "    C2 = Y2.mean(axis = 0)\n",
    "    C3 = Y3.mean(axis = 0)\n",
    "    C4 = Y4.mean(axis = 0)\n",
    "    C5 = Y5.mean(axis = 0)\n",
    "    \n",
    "    centroids[:, 0] = C1\n",
    "    centroids[:, 1] = C2\n",
    "    centroids[:, 2] = C3\n",
    "    centroids[:, 3] = C4\n",
    "    centroids[:, 4] = C5"
   ]
  },
  {
   "cell_type": "code",
   "execution_count": 147,
   "metadata": {},
   "outputs": [
    {
     "data": {
      "text/plain": [
       "Text(0, 0.5, 'Number of transactions')"
      ]
     },
     "execution_count": 147,
     "metadata": {},
     "output_type": "execute_result"
    },
    {
     "data": {
      "image/png": "[encoded data removed]",
      "text/plain": [
       "<Figure size 432x288 with 1 Axes>"
      ]
     },
     "metadata": {
      "needs_background": "light"
     },
     "output_type": "display_data"
    }
   ],
   "source": [
    "color = ['red', 'blue', 'green', 'cyan', 'magenta']\n",
    "plt.scatter(Y1[:, 0], Y1[:, 1], c = color[0])\n",
    "plt.scatter(Y2[:, 0], Y2[:, 1], c = color[1])\n",
    "plt.scatter(Y3[:, 0], Y3[:, 1], c = color[2])\n",
    "plt.scatter(Y4[:, 0], Y4[:, 1], c = color[3])\n",
    "plt.scatter(Y5[:, 0], Y5[:, 1], c = color[4])\n",
    "plt.scatter(C1[0], C1[1], s = 100, c = 'yellow')\n",
    "plt.scatter(C2[0], C2[1], s = 100, c = 'yellow')\n",
    "plt.scatter(C3[0], C3[1], s = 100, c = 'yellow')\n",
    "plt.scatter(C4[0], C4[1], s = 100, c = 'yellow')\n",
    "plt.scatter(C5[0], C5[1], s = 100, c = 'yellow')\n",
    "plt.xlabel('Income')\n",
    "plt.ylabel('Number of transactions')"
   ]
  },
  {
   "cell_type": "markdown",
   "metadata": {},
   "source": [
    "### Vectorization"
   ]
  },
  {
   "cell_type": "code",
   "execution_count": 114,
   "metadata": {},
   "outputs": [],
   "source": [
    "Y = {}"
   ]
  },
  {
   "cell_type": "code",
   "execution_count": 115,
   "metadata": {},
   "outputs": [],
   "source": [
    "for k in range(K):\n",
    "    Y[k + 1] = np.array([]).reshape(2, 0)\n",
    "    \n",
    "for i in range(m):\n",
    "    Y[clusters[i]] = np.c_[Y[clusters[i]], X[i]]\n",
    "    \n",
    "for k in range(K):\n",
    "    Y[k + 1] = Y[k + 1].T\n",
    "    \n",
    "for k in range(K):\n",
    "    centroids[:, k] = np.mean(Y[k + 1], axis = 0)"
   ]
  },
  {
   "cell_type": "code",
   "execution_count": 116,
   "metadata": {},
   "outputs": [
    {
     "data": {
      "text/plain": [
       "{1: array([[54., 42.],\n",
       "        [54., 41.],\n",
       "        [54., 44.],\n",
       "        [54., 46.],\n",
       "        [58., 46.],\n",
       "        [59., 41.],\n",
       "        [60., 40.],\n",
       "        [60., 42.],\n",
       "        [60., 47.],\n",
       "        [61., 42.],\n",
       "        [61., 49.],\n",
       "        [62., 41.],\n",
       "        [62., 42.]]), 2: array([[15., 39.],\n",
       "        [16.,  6.],\n",
       "        [18.,  6.],\n",
       "        [19.,  3.],\n",
       "        [19., 14.],\n",
       "        [20., 15.],\n",
       "        [20., 13.],\n",
       "        [21., 35.],\n",
       "        [23., 29.],\n",
       "        [25.,  5.],\n",
       "        [28., 14.],\n",
       "        [30.,  4.],\n",
       "        [33.,  4.],\n",
       "        [33., 14.],\n",
       "        [34., 17.]]), 3: array([[15., 81.],\n",
       "        [16., 77.],\n",
       "        [17., 40.],\n",
       "        [17., 76.],\n",
       "        [18., 94.],\n",
       "        [19., 72.],\n",
       "        [19., 99.],\n",
       "        [20., 77.],\n",
       "        [20., 79.],\n",
       "        [21., 66.],\n",
       "        [23., 98.],\n",
       "        [24., 35.],\n",
       "        [24., 73.],\n",
       "        [25., 73.],\n",
       "        [28., 82.],\n",
       "        [28., 32.],\n",
       "        [28., 61.],\n",
       "        [29., 31.],\n",
       "        [29., 87.],\n",
       "        [30., 73.],\n",
       "        [33., 81.],\n",
       "        [34., 73.],\n",
       "        [37., 26.],\n",
       "        [37., 75.],\n",
       "        [38., 35.],\n",
       "        [39., 36.],\n",
       "        [39., 61.],\n",
       "        [39., 28.],\n",
       "        [39., 65.],\n",
       "        [40., 55.],\n",
       "        [40., 47.],\n",
       "        [40., 42.],\n",
       "        [40., 42.],\n",
       "        [42., 52.],\n",
       "        [42., 60.],\n",
       "        [43., 54.],\n",
       "        [43., 60.],\n",
       "        [43., 45.],\n",
       "        [43., 41.],\n",
       "        [44., 50.],\n",
       "        [44., 46.],\n",
       "        [46., 51.],\n",
       "        [46., 46.],\n",
       "        [46., 56.],\n",
       "        [46., 55.],\n",
       "        [47., 52.],\n",
       "        [47., 59.],\n",
       "        [48., 51.],\n",
       "        [48., 59.],\n",
       "        [48., 50.],\n",
       "        [48., 48.],\n",
       "        [48., 59.],\n",
       "        [48., 47.],\n",
       "        [49., 55.],\n",
       "        [49., 42.],\n",
       "        [50., 49.],\n",
       "        [50., 56.],\n",
       "        [54., 47.],\n",
       "        [54., 48.]]), 4: array([[ 33.,  92.],\n",
       "        [ 38.,  92.],\n",
       "        [ 54.,  54.],\n",
       "        [ 54.,  53.],\n",
       "        [ 54.,  52.],\n",
       "        [ 54.,  51.],\n",
       "        [ 54.,  55.],\n",
       "        [ 54.,  57.],\n",
       "        [ 57.,  58.],\n",
       "        [ 57.,  55.],\n",
       "        [ 58.,  60.],\n",
       "        [ 59.,  55.],\n",
       "        [ 60.,  49.],\n",
       "        [ 60.,  52.],\n",
       "        [ 60.,  50.],\n",
       "        [ 62.,  59.],\n",
       "        [ 62.,  55.],\n",
       "        [ 62.,  56.],\n",
       "        [ 63.,  52.],\n",
       "        [ 63.,  54.],\n",
       "        [ 65.,  59.],\n",
       "        [ 67.,  57.],\n",
       "        [ 67.,  56.],\n",
       "        [ 69.,  58.],\n",
       "        [ 69.,  91.],\n",
       "        [ 70.,  77.],\n",
       "        [ 71.,  95.],\n",
       "        [ 71.,  75.],\n",
       "        [ 71.,  75.],\n",
       "        [ 72.,  71.],\n",
       "        [ 73.,  88.],\n",
       "        [ 73.,  73.],\n",
       "        [ 74.,  72.],\n",
       "        [ 75.,  93.],\n",
       "        [ 76.,  87.],\n",
       "        [ 77.,  97.],\n",
       "        [ 77.,  74.],\n",
       "        [ 78.,  90.],\n",
       "        [ 78.,  88.],\n",
       "        [ 78.,  76.],\n",
       "        [ 78.,  89.],\n",
       "        [ 78.,  78.],\n",
       "        [ 78.,  73.],\n",
       "        [ 79.,  83.],\n",
       "        [ 81.,  93.],\n",
       "        [ 85.,  75.],\n",
       "        [ 86.,  95.],\n",
       "        [ 87.,  75.],\n",
       "        [ 87.,  92.],\n",
       "        [ 88.,  86.],\n",
       "        [ 88.,  69.],\n",
       "        [ 93.,  90.],\n",
       "        [ 97.,  86.],\n",
       "        [ 98.,  88.],\n",
       "        [ 99.,  97.],\n",
       "        [103.,  85.],\n",
       "        [113.,  91.]]), 5: array([[ 62.,  48.],\n",
       "        [ 63.,  50.],\n",
       "        [ 63.,  46.],\n",
       "        [ 63.,  43.],\n",
       "        [ 63.,  48.],\n",
       "        [ 64.,  42.],\n",
       "        [ 64.,  46.],\n",
       "        [ 65.,  48.],\n",
       "        [ 65.,  50.],\n",
       "        [ 65.,  43.],\n",
       "        [ 67.,  43.],\n",
       "        [ 67.,  40.],\n",
       "        [ 70.,  29.],\n",
       "        [ 71.,  35.],\n",
       "        [ 71.,  11.],\n",
       "        [ 71.,   9.],\n",
       "        [ 72.,  34.],\n",
       "        [ 73.,   5.],\n",
       "        [ 73.,   7.],\n",
       "        [ 74.,  10.],\n",
       "        [ 75.,   5.],\n",
       "        [ 76.,  40.],\n",
       "        [ 77.,  12.],\n",
       "        [ 77.,  36.],\n",
       "        [ 78.,  22.],\n",
       "        [ 78.,  17.],\n",
       "        [ 78.,  20.],\n",
       "        [ 78.,  16.],\n",
       "        [ 78.,   1.],\n",
       "        [ 78.,   1.],\n",
       "        [ 79.,  35.],\n",
       "        [ 81.,   5.],\n",
       "        [ 85.,  26.],\n",
       "        [ 86.,  20.],\n",
       "        [ 87.,  27.],\n",
       "        [ 87.,  63.],\n",
       "        [ 87.,  13.],\n",
       "        [ 87.,  10.],\n",
       "        [ 88.,  13.],\n",
       "        [ 88.,  15.],\n",
       "        [ 93.,  14.],\n",
       "        [ 97.,  32.],\n",
       "        [ 98.,  15.],\n",
       "        [ 99.,  39.],\n",
       "        [101.,  24.],\n",
       "        [101.,  68.],\n",
       "        [103.,  17.],\n",
       "        [103.,  23.],\n",
       "        [103.,  69.],\n",
       "        [113.,   8.],\n",
       "        [120.,  16.],\n",
       "        [120.,  79.],\n",
       "        [126.,  28.],\n",
       "        [126.,  74.],\n",
       "        [137.,  18.],\n",
       "        [137.,  83.]])}"
      ]
     },
     "execution_count": 116,
     "metadata": {},
     "output_type": "execute_result"
    }
   ],
   "source": [
    "Y"
   ]
  },
  {
   "cell_type": "code",
   "execution_count": 143,
   "metadata": {},
   "outputs": [],
   "source": [
    "for i in range(n_iter):\n",
    "    for k in range(K):\n",
    "        \n",
    "        temp_distance = np.sum((X - centroids[:, k]) ** 2, axis = 1)\n",
    "        distance[:, k] = temp_distance\n",
    "\n",
    "    clusters = np.argmin(distance, axis = 1) + 1\n",
    "\n",
    "    for k in range(K):\n",
    "        Y[k + 1] = np.array([]).reshape(2, 0)\n",
    "\n",
    "    for i in range(m):\n",
    "        Y[clusters[i]] = np.c_[Y[clusters[i]], X[i]]\n",
    "\n",
    "    for k in range(K):\n",
    "        Y[k + 1] = Y[k + 1].T\n",
    "\n",
    "    for k in range(K):\n",
    "        centroids[:, k] = np.mean(Y[k + 1], axis = 0)\n",
    "            \n",
    "    output = Y"
   ]
  },
  {
   "cell_type": "code",
   "execution_count": 144,
   "metadata": {},
   "outputs": [
    {
     "data": {
      "text/plain": [
       "Text(0.5, 1.0, 'Plot of data points')"
      ]
     },
     "execution_count": 144,
     "metadata": {},
     "output_type": "execute_result"
    },
    {
     "data": {
      "image/png": "[encoded data removed]",
      "text/plain": [
       "<Figure size 432x288 with 1 Axes>"
      ]
     },
     "metadata": {
      "needs_background": "light"
     },
     "output_type": "display_data"
    }
   ],
   "source": [
    "plt.scatter(X[:, 0], X[:, 1], c = 'black')\n",
    "plt.xlabel('Income')\n",
    "plt.ylabel('Number of transactions')\n",
    "plt.title('Plot of data points')"
   ]
  },
  {
   "cell_type": "code",
   "execution_count": 145,
   "metadata": {},
   "outputs": [
    {
     "data": {
      "text/plain": [
       "Text(0, 0.5, 'Number of transactions')"
      ]
     },
     "execution_count": 145,
     "metadata": {},
     "output_type": "execute_result"
    },
    {
     "data": {
      "image/png": "[encoded data removed]",
      "text/plain": [
       "<Figure size 432x288 with 1 Axes>"
      ]
     },
     "metadata": {
      "needs_background": "light"
     },
     "output_type": "display_data"
    }
   ],
   "source": [
    "color = ['red', 'blue', 'green', 'cyan', 'magenta']\n",
    "\n",
    "for k in range(K):\n",
    "    plt.scatter(output[k + 1][:, 0], output[k + 1][:, 1], c = color[k])\n",
    "    \n",
    "plt.scatter(centroids[0, :], centroids[1, :], s = 100, c = 'yellow')\n",
    "plt.xlabel('Income')\n",
    "plt.ylabel('Number of transactions')"
   ]
  },
  {
   "cell_type": "code",
   "execution_count": 142,
   "metadata": {},
   "outputs": [
    {
     "data": {
      "image/png": "[encoded data removed]",
      "text/plain": [
       "<Figure size 432x288 with 1 Axes>"
      ]
     },
     "metadata": {
      "needs_background": "light"
     },
     "output_type": "display_data"
    }
   ],
   "source": [
    "# implementing the same algorithm using the sklearn library\n",
    "# with the elbow method to find the optimal number of clusters\n",
    "\n",
    "from sklearn.cluster import KMeans\n",
    "\n",
    "cost = []\n",
    "\n",
    "for k in range(1, 11):\n",
    "    kmeans = KMeans(n_clusters = k, init = 'k-means++', random_state = 42)\n",
    "    kmeans.fit(X)\n",
    "    cost.append(kmeans.inertia_)\n",
    "    \n",
    "plt.plot(range(1, 11), cost)\n",
    "plt.title('The Elbow Method')\n",
    "plt.xlabel('Number of clusters')\n",
    "plt.ylabel('cost')\n",
    "plt.show()"
   ]
  },
  {
   "cell_type": "code",
   "execution_count": null,
   "metadata": {},
   "outputs": [],
   "source": []
  }
 ],
 "metadata": {
  "kernelspec": {
   "display_name": "Python [conda env:root] *",
   "language": "python",
   "name": "conda-root-py"
  },
  "language_info": {
   "codemirror_mode": {
    "name": "ipython",
    "version": 3
   },
   "file_extension": ".py",
   "mimetype": "text/x-python",
   "name": "python",
   "nbconvert_exporter": "python",
   "pygments_lexer": "ipython3",
   "version": "3.7.4"
  }
 },
 "nbformat": 4,
 "nbformat_minor": 2
}
