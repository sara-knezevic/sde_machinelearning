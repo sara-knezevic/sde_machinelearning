{
 "cells": [
  {
   "cell_type": "code",
   "execution_count": 15,
   "metadata": {},
   "outputs": [],
   "source": [
    "import numpy as np\n",
    "import sklearn\n",
    "from sklearn.datasets import load_breast_cancer\n",
    "import matplotlib.pyplot as plt"
   ]
  },
  {
   "cell_type": "code",
   "execution_count": 16,
   "metadata": {},
   "outputs": [],
   "source": [
    "cancer = load_breast_cancer()\n",
    "X = cancer.data\n",
    "y = cancer.target\n",
    "m = np.shape(X)[0]\n",
    "n = np.shape(X)[1]"
   ]
  },
  {
   "cell_type": "code",
   "execution_count": 17,
   "metadata": {},
   "outputs": [
    {
     "name": "stdout",
     "output_type": "stream",
     "text": [
      "569 30\n"
     ]
    }
   ],
   "source": [
    "print (m, n)"
   ]
  },
  {
   "cell_type": "code",
   "execution_count": 18,
   "metadata": {},
   "outputs": [],
   "source": [
    "X = (X - X.min()) / (X.max() - X.min())"
   ]
  },
  {
   "cell_type": "code",
   "execution_count": 19,
   "metadata": {},
   "outputs": [
    {
     "name": "stdout",
     "output_type": "stream",
     "text": [
      "(483, 30) (483,) (86, 30) (86,)\n"
     ]
    }
   ],
   "source": [
    "from sklearn.model_selection import train_test_split\n",
    "X_train, X_test, y_train, y_test = train_test_split(X, y, test_size = 0.15, random_state = 42)\n",
    "print (X_train.shape, y_train.shape, X_test.shape, y_test.shape)"
   ]
  },
  {
   "cell_type": "code",
   "execution_count": 20,
   "metadata": {},
   "outputs": [],
   "source": [
    "X_train = X_train.T\n",
    "X_test = X_test.T\n",
    "y_train = y_train.T\n",
    "y_test = y_test.T"
   ]
  },
  {
   "cell_type": "code",
   "execution_count": 21,
   "metadata": {},
   "outputs": [
    {
     "data": {
      "text/plain": [
       "array([1, 0, 0, 1, 1, 0, 0, 0, 1, 1, 1, 0, 1, 0, 1, 0, 1, 1, 1, 0, 0, 1,\n",
       "       0, 1, 1, 1, 1, 1, 1, 0, 1, 1, 1, 1, 1, 1, 0, 1, 0, 1, 1, 0, 1, 1,\n",
       "       1, 1, 1, 1, 1, 1, 0, 0, 1, 1, 1, 1, 1, 0, 0, 1, 1, 0, 0, 1, 1, 1,\n",
       "       0, 0, 1, 1, 0, 0, 1, 0, 1, 1, 1, 0, 1, 1, 0, 1, 0, 0, 0, 0])"
      ]
     },
     "execution_count": 21,
     "metadata": {},
     "output_type": "execute_result"
    }
   ],
   "source": [
    "y_test"
   ]
  },
  {
   "cell_type": "code",
   "execution_count": 22,
   "metadata": {},
   "outputs": [
    {
     "name": "stdout",
     "output_type": "stream",
     "text": [
      "(30, 483) (483,) (30, 86) (86,)\n"
     ]
    }
   ],
   "source": [
    "print (X_train.shape, y_train.shape, X_test.shape, y_test.shape)"
   ]
  },
  {
   "cell_type": "code",
   "execution_count": 23,
   "metadata": {},
   "outputs": [],
   "source": [
    "def init_theta(features):\n",
    "    theta = np.zeros([features, 1])\n",
    "    theta0 = 0.0\n",
    "    return theta, theta0"
   ]
  },
  {
   "cell_type": "code",
   "execution_count": 24,
   "metadata": {},
   "outputs": [],
   "source": [
    "def sigmoid(z):\n",
    "    h = 1 / (1 + np.exp(-z))\n",
    "    return h"
   ]
  },
  {
   "cell_type": "code",
   "execution_count": 25,
   "metadata": {},
   "outputs": [],
   "source": [
    "def forward_propagation(theta, theta0, X_train, y_train):\n",
    "    z = np.dot(theta.T, X_train) + theta0\n",
    "    h = sigmoid(z)\n",
    "    n = X_train.shape[1]\n",
    "    cost = - y_train * np.log(h) - (1 - y_train) * np.log(1 - h)\n",
    "    cost = (np.sum(cost)) / n\n",
    "    # backward propagation\n",
    "    derivative_weight = (np.dot(X_train, ((h - y_train).T))) / n \n",
    "    derivative_bias = np.sum(h - y_train) / n\n",
    "    gradients = {\"derivative_weight\": derivative_weight, \"derivative_bias\": derivative_bias}\n",
    "    return cost, gradients"
   ]
  },
  {
   "cell_type": "code",
   "execution_count": 34,
   "metadata": {},
   "outputs": [],
   "source": [
    "def update(theta, theta0, X_train, y_train, alpha, epochs):\n",
    "    cost_list = []\n",
    "    cost_list_tenth = [] # tracking tenth cost\n",
    "    index = []\n",
    "    \n",
    "    for i in range(epochs):\n",
    "        cost, gradients = forward_propagation(theta, theta0, X_train, y_train)\n",
    "        cost_list.append(cost)\n",
    "        \n",
    "        theta = theta - alpha * gradients[\"derivative_weight\"]\n",
    "        theta0 = theta0 - alpha * gradients[\"derivative_bias\"]\n",
    "        #print (\"Thetas : {}\".format(theta)) \n",
    "        \n",
    "        if i % 10 == 0:\n",
    "            cost_list_tenth.append(cost)\n",
    "            index.append(i)\n",
    "            #print (\"Cost after epochs % i: % f\" %(i, cost)) \n",
    "            \n",
    "    parameters = {\"weight\": theta, \"bias\": theta0}\n",
    "    # h = theta * X + theta0\n",
    "    plt.plot(index, cost_list_tenth)\n",
    "        \n",
    "    return parameters, gradients, cost_list"
   ]
  },
  {
   "cell_type": "code",
   "execution_count": 31,
   "metadata": {},
   "outputs": [],
   "source": [
    "def predict(theta, theta0, X_test):\n",
    "    z = sigmoid(np.dot(theta.T, X_test) + theta0)\n",
    "    y_prediction = np.zeros((1, X_test.shape[1]))\n",
    "    \n",
    "    for i in range(z.shape[1]):\n",
    "        if z[0, i] <= 0.5:\n",
    "            y_prediction[0, i] = 0\n",
    "        else:\n",
    "            y_prediction[0, i] = 1\n",
    "    \n",
    "    return y_prediction"
   ]
  },
  {
   "cell_type": "code",
   "execution_count": 32,
   "metadata": {},
   "outputs": [],
   "source": [
    "def logistic_regression(X_train, y_train, X_test, y_test, alpha, epochs):\n",
    "    m = X_train.shape[0]\n",
    "    theta, theta0 = init_theta(m)\n",
    "    \n",
    "    parameters, gradients, cost_list = update(theta, theta0, X_train, y_train, alpha, epochs)\n",
    "\n",
    "    y_prediction_test = predict(parameters[\"weight\"], parameters[\"bias\"], X_test)\n",
    "    y_prediction_train = predict(parameters[\"weight\"], parameters[\"bias\"], X_train)\n",
    "    \n",
    "    print (\"Train accuracy: {:.2f}%\".format(100 - np.mean(np.abs(y_prediction_train - y_train)) * 100))\n",
    "    print (\"Test accuracy: {:.2f}%\".format(100 - np.mean(np.abs(y_prediction_test - y_test)) * 100))"
   ]
  },
  {
   "cell_type": "code",
   "execution_count": 35,
   "metadata": {},
   "outputs": [
    {
     "name": "stdout",
     "output_type": "stream",
     "text": [
      "Train accuracy: 80.75%\n",
      "Test accuracy: 81.40%\n"
     ]
    },
    {
     "data": {
      "image/png": "[encoded data removed]",
      "text/plain": [
       "<Figure size 432x288 with 1 Axes>"
      ]
     },
     "metadata": {
      "needs_background": "light"
     },
     "output_type": "display_data"
    }
   ],
   "source": [
    "logistic_regression(X_train, y_train, X_test, y_test, alpha = 0.1, epochs = 1000)"
   ]
  },
  {
   "cell_type": "code",
   "execution_count": null,
   "metadata": {},
   "outputs": [],
   "source": []
  }
 ],
 "metadata": {
  "kernelspec": {
   "display_name": "Python 3.8.1 64-bit",
   "language": "python",
   "name": "python38164bitc7e856f8d50d467cb79555be46902b8e"
  },
  "language_info": {
   "codemirror_mode": {
    "name": "ipython",
    "version": 3
   },
   "file_extension": ".py",
   "mimetype": "text/x-python",
   "name": "python",
   "nbconvert_exporter": "python",
   "pygments_lexer": "ipython3",
   "version": "3.8.1"
  }
 },
 "nbformat": 4,
 "nbformat_minor": 2
}
