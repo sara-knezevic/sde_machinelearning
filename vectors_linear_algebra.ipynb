{
 "cells": [
  {
   "cell_type": "code",
   "execution_count": 159,
   "metadata": {},
   "outputs": [],
   "source": [
    "import numpy as np"
   ]
  },
  {
   "cell_type": "code",
   "execution_count": 160,
   "metadata": {},
   "outputs": [],
   "source": [
    "def vector_size(v):\n",
    "    return len(v)"
   ]
  },
  {
   "cell_type": "code",
   "execution_count": 161,
   "metadata": {},
   "outputs": [
    {
     "data": {
      "text/plain": [
       "5"
      ]
     },
     "execution_count": 161,
     "metadata": {},
     "output_type": "execute_result"
    }
   ],
   "source": [
    "v = [123, 2213, 421, 22, 444]\n",
    "vector_size(v)"
   ]
  },
  {
   "cell_type": "code",
   "execution_count": 162,
   "metadata": {},
   "outputs": [],
   "source": [
    "def add_vectors(u, v):\n",
    "    w = []\n",
    "    for i in range(len(u)):\n",
    "        w.append(u[i] + v[i])\n",
    "    return w"
   ]
  },
  {
   "cell_type": "code",
   "execution_count": 163,
   "metadata": {},
   "outputs": [
    {
     "data": {
      "text/plain": [
       "[5, 4, 4, 16]"
      ]
     },
     "execution_count": 163,
     "metadata": {},
     "output_type": "execute_result"
    }
   ],
   "source": [
    "a = [1, 2, 3, 4]\n",
    "b = [4, 2, 1, 12]\n",
    "add_vectors(a, b)"
   ]
  },
  {
   "cell_type": "code",
   "execution_count": 164,
   "metadata": {},
   "outputs": [],
   "source": [
    "def add_matrix(U, V):\n",
    "    W=[]\n",
    "    for i in range(len(U)):\n",
    "        temp=[]\n",
    "        for j in range(len(U[0])):\n",
    "              temp.append(U[i][j]+V[i][j])\n",
    "        W.append(temp)\n",
    "    return W"
   ]
  },
  {
   "cell_type": "code",
   "execution_count": 165,
   "metadata": {},
   "outputs": [
    {
     "data": {
      "text/plain": [
       "[[2, 4, 6], [9, 11, 7]]"
      ]
     },
     "execution_count": 165,
     "metadata": {},
     "output_type": "execute_result"
    }
   ],
   "source": [
    "m = [[1, 2, 3],\n",
    "     [4, 5, 6]]\n",
    "n = [[1, 2, 3],\n",
    "     [5, 6, 1]]\n",
    "\n",
    "add_matrix(m, n)"
   ]
  },
  {
   "cell_type": "code",
   "execution_count": 166,
   "metadata": {},
   "outputs": [],
   "source": [
    "# matrix * vector\n",
    "def dot(M,v):\n",
    "    u=[]\n",
    "    for i in range(len(M)):\n",
    "        val=0.0\n",
    "        for j in range(len(M[0])):\n",
    "            val=val+M[i][j]*v[j]\n",
    "        u.append(val)\n",
    "    return u"
   ]
  },
  {
   "cell_type": "code",
   "execution_count": 167,
   "metadata": {},
   "outputs": [
    {
     "data": {
      "text/plain": [
       "[14.0, 32.0]"
      ]
     },
     "execution_count": 167,
     "metadata": {},
     "output_type": "execute_result"
    }
   ],
   "source": [
    "a = [1, 2, 3, 4]\n",
    "b = [4, 2, 1, 12]\n",
    "\n",
    "dot(m, a)"
   ]
  },
  {
   "cell_type": "code",
   "execution_count": 168,
   "metadata": {},
   "outputs": [],
   "source": [
    "def matrix_multiplication(M, N):\n",
    "    W = np.zeros((len(M), len(N[0])))\n",
    "    for i in range(len(M)):\n",
    "        for j in range(len(N[0])):\n",
    "            for k in range(len(N)):\n",
    "                W[i][j] += M[i][k] * N[k][j]\n",
    "    return W"
   ]
  },
  {
   "cell_type": "code",
   "execution_count": 169,
   "metadata": {},
   "outputs": [
    {
     "data": {
      "text/plain": [
       "array([[22., 28.],\n",
       "       [49., 64.]])"
      ]
     },
     "execution_count": 169,
     "metadata": {},
     "output_type": "execute_result"
    }
   ],
   "source": [
    "m = [[1, 2, 3],\n",
    "     [4, 5, 6]]\n",
    "n = [[1, 2],\n",
    "     [3, 4],\n",
    "     [5, 6]]\n",
    "\n",
    "matrix_multiplication(m, n)"
   ]
  },
  {
   "cell_type": "code",
   "execution_count": 170,
   "metadata": {},
   "outputs": [],
   "source": [
    "def cross_product(u, v):\n",
    "    M = []\n",
    "    for i in range(len(u)):\n",
    "        N = []\n",
    "        for j in range(len(v)):\n",
    "            N.append(u[i] * v[j])\n",
    "        M.append(N)\n",
    "    return M"
   ]
  },
  {
   "cell_type": "code",
   "execution_count": 171,
   "metadata": {},
   "outputs": [
    {
     "data": {
      "text/plain": [
       "[[5, 6, 7, 8], [10, 12, 14, 16], [15, 18, 21, 24], [20, 24, 28, 32]]"
      ]
     },
     "execution_count": 171,
     "metadata": {},
     "output_type": "execute_result"
    }
   ],
   "source": [
    "u=[1,2,3,4]\n",
    "v=[5,6,7,8]\n",
    "cross_product(u,v)"
   ]
  },
  {
   "cell_type": "code",
   "execution_count": 172,
   "metadata": {},
   "outputs": [],
   "source": [
    "def element_dot_product(u, v):\n",
    "    w = []\n",
    "    for i in range(len(u)):\n",
    "        w.append(u[i] * v[i])\n",
    "    return w"
   ]
  },
  {
   "cell_type": "code",
   "execution_count": 173,
   "metadata": {},
   "outputs": [
    {
     "data": {
      "text/plain": [
       "[5, 12, 21, 32]"
      ]
     },
     "execution_count": 173,
     "metadata": {},
     "output_type": "execute_result"
    }
   ],
   "source": [
    "u=[1,2,3,4]\n",
    "v=[5,6,7,8]\n",
    "\n",
    "element_dot_product(u,v)"
   ]
  },
  {
   "cell_type": "code",
   "execution_count": 174,
   "metadata": {},
   "outputs": [],
   "source": [
    "def scalar_vector_multiplication(a, v):\n",
    "    u = []\n",
    "    for i in range(len(v)):\n",
    "        u.append(a * v[i])\n",
    "    return u"
   ]
  },
  {
   "cell_type": "code",
   "execution_count": 175,
   "metadata": {},
   "outputs": [
    {
     "data": {
      "text/plain": [
       "[5, 10, 15, 20, 25]"
      ]
     },
     "execution_count": 175,
     "metadata": {},
     "output_type": "execute_result"
    }
   ],
   "source": [
    "a=5\n",
    "v=[1,2,3,4,5]\n",
    "\n",
    "scalar_vector_multiplication(a, v)"
   ]
  },
  {
   "cell_type": "code",
   "execution_count": 176,
   "metadata": {},
   "outputs": [],
   "source": [
    "def scalar_multiplication(a, M):\n",
    "    N = []\n",
    "    for i in range(len(M)):\n",
    "        U = []\n",
    "        for j in range(len(M[i])):\n",
    "            U.append(a * M[i][j])\n",
    "        N.append(U)\n",
    "    return N"
   ]
  },
  {
   "cell_type": "code",
   "execution_count": 177,
   "metadata": {},
   "outputs": [
    {
     "data": {
      "text/plain": [
       "[[5, 20, 25, 60], [-25, 40, 45, 0], [-30, 35, 55, 95]]"
      ]
     },
     "execution_count": 177,
     "metadata": {},
     "output_type": "execute_result"
    }
   ],
   "source": [
    "A=[[1,4,5,12],\n",
    "   [-5,8,9,0],\n",
    "   [-6,7,11,19]]\n",
    "a=5\n",
    "scalar_multiplication(a,A)"
   ]
  },
  {
   "cell_type": "code",
   "execution_count": 178,
   "metadata": {},
   "outputs": [],
   "source": [
    "def transpose(M):\n",
    "    N=[]\n",
    "    for j in range(len(M[0])): #over columns\n",
    "        U=[]\n",
    "        for i in range(len(M)):  #over rows\n",
    "            U.append(M[i][j])\n",
    "        N.append(U)\n",
    "    return N"
   ]
  },
  {
   "cell_type": "code",
   "execution_count": 179,
   "metadata": {},
   "outputs": [
    {
     "data": {
      "text/plain": [
       "[[1, 4], [2, 5], [3, 6]]"
      ]
     },
     "execution_count": 179,
     "metadata": {},
     "output_type": "execute_result"
    }
   ],
   "source": [
    "A=[[1,2,3],\n",
    "   [4,5,6]]\n",
    "transpose(A)"
   ]
  }
 ],
 "metadata": {
  "kernelspec": {
   "display_name": "Python 3.8.1 64-bit",
   "language": "python",
   "name": "python38164bitc7e856f8d50d467cb79555be46902b8e"
  },
  "language_info": {
   "codemirror_mode": {
    "name": "ipython",
    "version": 3
   },
   "file_extension": ".py",
   "mimetype": "text/x-python",
   "name": "python",
   "nbconvert_exporter": "python",
   "pygments_lexer": "ipython3",
   "version": "3.8.1"
  }
 },
 "nbformat": 4,
 "nbformat_minor": 2
}
